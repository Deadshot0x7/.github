{
  "nbformat": 4,
  "nbformat_minor": 0,
  "metadata": {
    "colab": {
      "provenance": [],
      "authorship_tag": "ABX9TyNOqyFdi4bJp66NUjfdR1L+",
      "include_colab_link": true
    },
    "kernelspec": {
      "name": "python3",
      "display_name": "Python 3"
    },
    "language_info": {
      "name": "python"
    }
  },
  "cells": [
    {
      "cell_type": "markdown",
      "metadata": {
        "id": "view-in-github",
        "colab_type": "text"
      },
      "source": [
        "<a href=\"https://colab.research.google.com/github/Deadshot0x7/.github/blob/main/fourthday.ipynb\" target=\"_parent\"><img src=\"https://colab.research.google.com/assets/colab-badge.svg\" alt=\"Open In Colab\"/></a>"
      ]
    },
    {
      "cell_type": "code",
      "execution_count": 4,
      "metadata": {
        "colab": {
          "base_uri": "https://localhost:8080/"
        },
        "id": "vnQs4cmkRL_P",
        "outputId": "996e8990-ea83-45b9-8893-6514ec38c405"
      },
      "outputs": [
        {
          "output_type": "execute_result",
          "data": {
            "text/plain": [
              "5"
            ]
          },
          "metadata": {},
          "execution_count": 4
        }
      ],
      "source": [
        "add=lambda x,y:x + y \n",
        "add(2,3)"
      ]
    },
    {
      "cell_type": "code",
      "source": [
        "data=[23,45,78,90,32,56]\n"
      ],
      "metadata": {
        "id": "xpFgV27vRUA2"
      },
      "execution_count": null,
      "outputs": []
    },
    {
      "cell_type": "code",
      "source": [
        "def ml(x):\n",
        "  return x*.2\n",
        "\n",
        "  a=list (map(ml,data))\n",
        "  a"
      ],
      "metadata": {
        "id": "xqtIVV4lSwKN"
      },
      "execution_count": 6,
      "outputs": []
    },
    {
      "cell_type": "code",
      "source": [
        "names=[\"amit23\",\"deepak34\",\"sam44\",\"vikash90\"]\n",
        "list(map(lambda x: x[:-2] ,names))"
      ],
      "metadata": {
        "colab": {
          "base_uri": "https://localhost:8080/"
        },
        "id": "DMjRpfa2S98d",
        "outputId": "69c65cf5-bddb-4509-9f26-5dfa5888361a"
      },
      "execution_count": 16,
      "outputs": [
        {
          "output_type": "execute_result",
          "data": {
            "text/plain": [
              "['amit', 'deepak', 'sam', 'vikash']"
            ]
          },
          "metadata": {},
          "execution_count": 16
        }
      ]
    },
    {
      "cell_type": "code",
      "source": [
        "data=[23,45,78,90,32,56,55,43,22]\n",
        "\n",
        "list(filter(lambda x: x%2==0 , data))"
      ],
      "metadata": {
        "colab": {
          "base_uri": "https://localhost:8080/"
        },
        "id": "5ZShW9m_UB9Q",
        "outputId": "2e498f26-1b1a-410f-b548-176c09287abe"
      },
      "execution_count": 15,
      "outputs": [
        {
          "output_type": "execute_result",
          "data": {
            "text/plain": [
              "[78, 90, 32, 56, 22]"
            ]
          },
          "metadata": {},
          "execution_count": 15
        }
      ]
    },
    {
      "cell_type": "code",
      "source": [
        "import functionaltools as f \n"
      ],
      "metadata": {
        "colab": {
          "base_uri": "https://localhost:8080/",
          "height": 443
        },
        "id": "7xFwzxqGTUVD",
        "outputId": "bd80afdf-45f1-4231-be5c-d36c21fedc1e"
      },
      "execution_count": 21,
      "outputs": [
        {
          "output_type": "error",
          "ename": "ModuleNotFoundError",
          "evalue": "ignored",
          "traceback": [
            "\u001b[0;31m---------------------------------------------------------------------------\u001b[0m",
            "\u001b[0;31mModuleNotFoundError\u001b[0m                       Traceback (most recent call last)",
            "\u001b[0;32m<ipython-input-21-fa9b762a30fd>\u001b[0m in \u001b[0;36m<module>\u001b[0;34m\u001b[0m\n\u001b[0;32m----> 1\u001b[0;31m \u001b[0;32mimport\u001b[0m \u001b[0mfunctionaltools\u001b[0m \u001b[0;32mas\u001b[0m \u001b[0mf\u001b[0m\u001b[0;34m\u001b[0m\u001b[0;34m\u001b[0m\u001b[0m\n\u001b[0m",
            "\u001b[0;32m/usr/local/lib/python3.8/dist-packages/functionaltools/__init__.py\u001b[0m in \u001b[0;36m<module>\u001b[0;34m\u001b[0m\n\u001b[0;32m----> 1\u001b[0;31m \u001b[0;32mimport\u001b[0m \u001b[0m__builtin__\u001b[0m\u001b[0;34m\u001b[0m\u001b[0;34m\u001b[0m\u001b[0m\n\u001b[0m\u001b[1;32m      2\u001b[0m \u001b[0;32mimport\u001b[0m \u001b[0mfunctools\u001b[0m\u001b[0;34m\u001b[0m\u001b[0;34m\u001b[0m\u001b[0m\n\u001b[1;32m      3\u001b[0m \u001b[0;34m\u001b[0m\u001b[0m\n\u001b[1;32m      4\u001b[0m \u001b[0;34m\u001b[0m\u001b[0m\n\u001b[1;32m      5\u001b[0m \u001b[0;32mdef\u001b[0m \u001b[0mcurry\u001b[0m\u001b[0;34m(\u001b[0m\u001b[0mx\u001b[0m\u001b[0;34m,\u001b[0m \u001b[0margc\u001b[0m\u001b[0;34m=\u001b[0m\u001b[0;32mNone\u001b[0m\u001b[0;34m)\u001b[0m\u001b[0;34m:\u001b[0m\u001b[0;34m\u001b[0m\u001b[0;34m\u001b[0m\u001b[0m\n",
            "\u001b[0;31mModuleNotFoundError\u001b[0m: No module named '__builtin__'",
            "",
            "\u001b[0;31m---------------------------------------------------------------------------\u001b[0;32m\nNOTE: If your import is failing due to a missing package, you can\nmanually install dependencies using either !pip or !apt.\n\nTo view examples of installing some common dependencies, click the\n\"Open Examples\" button below.\n\u001b[0;31m---------------------------------------------------------------------------\u001b[0m\n"
          ],
          "errorDetails": {
            "actions": [
              {
                "action": "open_url",
                "actionText": "Open Examples",
                "url": "/notebooks/snippets/importing_libraries.ipynb"
              }
            ]
          }
        }
      ]
    },
    {
      "cell_type": "code",
      "source": [
        "pip install functionaltools"
      ],
      "metadata": {
        "colab": {
          "base_uri": "https://localhost:8080/"
        },
        "id": "vuon3bscUynb",
        "outputId": "a891e8fc-cb0f-4e0b-b925-56cb8e83ec2c"
      },
      "execution_count": 19,
      "outputs": [
        {
          "output_type": "stream",
          "name": "stdout",
          "text": [
            "Looking in indexes: https://pypi.org/simple, https://us-python.pkg.dev/colab-wheels/public/simple/\n",
            "Collecting functionaltools\n",
            "  Downloading functionaltools-0.0.2.tar.gz (2.2 kB)\n",
            "Building wheels for collected packages: functionaltools\n",
            "  Building wheel for functionaltools (setup.py) ... \u001b[?25l\u001b[?25hdone\n",
            "  Created wheel for functionaltools: filename=functionaltools-0.0.2-py3-none-any.whl size=3092 sha256=ae330cd1064701d87de70456d507c922581166309fd89639909a890ffebed03d\n",
            "  Stored in directory: /root/.cache/pip/wheels/09/7d/f9/179651712e9dc0dba1e7ff71f6884200cd65082eda34347e60\n",
            "Successfully built functionaltools\n",
            "Installing collected packages: functionaltools\n",
            "Successfully installed functionaltools-0.0.2\n"
          ]
        }
      ]
    },
    {
      "cell_type": "code",
      "source": [
        "import functiontools "
      ],
      "metadata": {
        "colab": {
          "base_uri": "https://localhost:8080/",
          "height": 316
        },
        "id": "TbPic_LYU2WQ",
        "outputId": "ced8d38e-8bb1-4939-d9c8-ce6b092d0d70"
      },
      "execution_count": 22,
      "outputs": [
        {
          "output_type": "error",
          "ename": "ModuleNotFoundError",
          "evalue": "ignored",
          "traceback": [
            "\u001b[0;31m---------------------------------------------------------------------------\u001b[0m",
            "\u001b[0;31mModuleNotFoundError\u001b[0m                       Traceback (most recent call last)",
            "\u001b[0;32m<ipython-input-22-c81d09c5cd6a>\u001b[0m in \u001b[0;36m<module>\u001b[0;34m\u001b[0m\n\u001b[0;32m----> 1\u001b[0;31m \u001b[0;32mimport\u001b[0m \u001b[0mfunctiontools\u001b[0m\u001b[0;34m\u001b[0m\u001b[0;34m\u001b[0m\u001b[0m\n\u001b[0m",
            "\u001b[0;31mModuleNotFoundError\u001b[0m: No module named 'functiontools'",
            "",
            "\u001b[0;31m---------------------------------------------------------------------------\u001b[0;32m\nNOTE: If your import is failing due to a missing package, you can\nmanually install dependencies using either !pip or !apt.\n\nTo view examples of installing some common dependencies, click the\n\"Open Examples\" button below.\n\u001b[0;31m---------------------------------------------------------------------------\u001b[0m\n"
          ],
          "errorDetails": {
            "actions": [
              {
                "action": "open_url",
                "actionText": "Open Examples",
                "url": "/notebooks/snippets/importing_libraries.ipynb"
              }
            ]
          }
        }
      ]
    },
    {
      "cell_type": "code",
      "source": [
        "# fucntiontool function \n",
        "\n",
        "#functiontools.reduce(lambda x,y: x+y , data )\n",
        "\n"
      ],
      "metadata": {
        "id": "yMmGU1EdVL7x"
      },
      "execution_count": 25,
      "outputs": []
    },
    {
      "cell_type": "code",
      "source": [
        "!pip install functionaltools"
      ],
      "metadata": {
        "colab": {
          "base_uri": "https://localhost:8080/"
        },
        "id": "Fjwrl0QqVpob",
        "outputId": "8ebf623a-3003-43c3-ede6-8176ffe5eb45"
      },
      "execution_count": 26,
      "outputs": [
        {
          "output_type": "stream",
          "name": "stdout",
          "text": [
            "Looking in indexes: https://pypi.org/simple, https://us-python.pkg.dev/colab-wheels/public/simple/\n",
            "Requirement already satisfied: functionaltools in /usr/local/lib/python3.8/dist-packages (0.0.2)\n"
          ]
        }
      ]
    },
    {
      "cell_type": "code",
      "source": [
        "import pandas"
      ],
      "metadata": {
        "id": "ui3YsU7sV5Hz"
      },
      "execution_count": 28,
      "outputs": []
    },
    {
      "cell_type": "code",
      "source": [
        "#df=pandas.read_csv( // Location of the workbook or Dataset)\n"
      ],
      "metadata": {
        "id": "M478pcysWJYB"
      },
      "execution_count": 29,
      "outputs": []
    },
    {
      "cell_type": "code",
      "source": [
        "#df[\"Colmun name \"].functioncall()\n",
        "\n",
        "#df[\"column name \"]=df[\"column name \"].replace\n",
        "\n",
        "#df[\"column name \"]=df[\"column name \"].unique\n",
        "\n",
        "import maplotlib as m\n"
      ],
      "metadata": {
        "colab": {
          "base_uri": "https://localhost:8080/",
          "height": 352
        },
        "id": "dTd9VtjPY4HH",
        "outputId": "5a3a937a-6990-4e2e-ecec-47443c054f15"
      },
      "execution_count": 30,
      "outputs": [
        {
          "output_type": "error",
          "ename": "ModuleNotFoundError",
          "evalue": "ignored",
          "traceback": [
            "\u001b[0;31m---------------------------------------------------------------------------\u001b[0m",
            "\u001b[0;31mModuleNotFoundError\u001b[0m                       Traceback (most recent call last)",
            "\u001b[0;32m<ipython-input-30-e860edd7725a>\u001b[0m in \u001b[0;36m<module>\u001b[0;34m\u001b[0m\n\u001b[1;32m      5\u001b[0m \u001b[0;31m#df[\"column name \"]=df[\"column name \"].unique\u001b[0m\u001b[0;34m\u001b[0m\u001b[0;34m\u001b[0m\u001b[0;34m\u001b[0m\u001b[0m\n\u001b[1;32m      6\u001b[0m \u001b[0;34m\u001b[0m\u001b[0m\n\u001b[0;32m----> 7\u001b[0;31m \u001b[0;32mimport\u001b[0m \u001b[0mmaplotlib\u001b[0m \u001b[0;32mas\u001b[0m \u001b[0mm\u001b[0m\u001b[0;34m\u001b[0m\u001b[0;34m\u001b[0m\u001b[0m\n\u001b[0m",
            "\u001b[0;31mModuleNotFoundError\u001b[0m: No module named 'maplotlib'",
            "",
            "\u001b[0;31m---------------------------------------------------------------------------\u001b[0;32m\nNOTE: If your import is failing due to a missing package, you can\nmanually install dependencies using either !pip or !apt.\n\nTo view examples of installing some common dependencies, click the\n\"Open Examples\" button below.\n\u001b[0;31m---------------------------------------------------------------------------\u001b[0m\n"
          ],
          "errorDetails": {
            "actions": [
              {
                "action": "open_url",
                "actionText": "Open Examples",
                "url": "/notebooks/snippets/importing_libraries.ipynb"
              }
            ]
          }
        }
      ]
    },
    {
      "cell_type": "code",
      "source": [
        "                                                                              #MATHPOILT\n",
        "\n",
        "#import matplotlib.pyplot as plt  // corrected name of the library \n",
        "#import numpy /\n",
        "#plt.bar() // to print the bar plot on the graph with two arguments \n",
        "#plt.scatter() // take x , y for the graph\n",
        "#plt.hist() // take one argumnet for calculating the frequency , can set the sie of 'bins' \n",
        "#plt.pie() // takes two argument , first argument for value  & Second argument for labelling & autopct is used to add the percentage syntaxt autopct=\"%  0.1f  %\"\n",
        "#plt.boxplot() // print thhe plot in the candle format\n",
        "#plt.area() \n",
        "#plt.tittle // print the title \n",
        "#plt.plot() /  takes two arguments in x & y , Can assgin the width color of the bar  \n",
        "#plt.xlabel() // prints the x label \n",
        "#plt.ylabel() // prints the y label \n",
        "#plt.figure()// takes parameter \"figsize\" to increse the size of the grpah \n",
        "#plt.grid( ) // takes True and false as an agument  to show the grid \n",
        "#plt.subplot() // print the Subsplot with three aargument for the co-ordinates\n",
        "#plt.save() // takes the two arguement for the file location and image type i.e jpg ,svg , png \n",
        "#plt.text() // print text on the bar whick takes three parameter , can be used with loops \n",
        "#plt.show() //  print the polt  outside jupyter notebook\n",
        "#bar plot \n",
        "#name=['Sachin','Dhoni','Virat', 'yuvraj ']\n",
        "#runs=[100,150,200,250]\n",
        "#Scatter plot \n",
        "#x=[10,20,30,40]\n",
        "#histogram \n",
        "#age[1,3,3,3,9,9,5,4,4,8,8,8,12,12]\n",
        "#piechart\n",
        "#fruits[\"apple\",\"mango\",\"orange\"]\n",
        "#quanity [67,34,100] \n",
        "#Area plot \n"
      ],
      "metadata": {
        "id": "JxkSdd2QeSQ-"
      },
      "execution_count": null,
      "outputs": []
    },
    {
      "cell_type": "code",
      "source": [],
      "metadata": {
        "id": "KvW21EKKm748"
      },
      "execution_count": null,
      "outputs": []
    }
  ]
}